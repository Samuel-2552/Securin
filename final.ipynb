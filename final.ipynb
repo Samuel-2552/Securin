{
 "cells": [
  {
   "cell_type": "markdown",
   "metadata": {},
   "source": [
    "# *Part - A*"
   ]
  },
  {
   "cell_type": "markdown",
   "metadata": {},
   "source": [
    "# Solution 1"
   ]
  },
  {
   "cell_type": "code",
   "execution_count": 1,
   "metadata": {},
   "outputs": [
    {
     "name": "stdout",
     "output_type": "stream",
     "text": [
      "Dice A\tDice B\n",
      "----------------\n",
      "1\t1\n",
      "1\t2\n",
      "1\t3\n",
      "1\t4\n",
      "1\t5\n",
      "1\t6\n",
      "2\t1\n",
      "2\t2\n",
      "2\t3\n",
      "2\t4\n",
      "2\t5\n",
      "2\t6\n",
      "3\t1\n",
      "3\t2\n",
      "3\t3\n",
      "3\t4\n",
      "3\t5\n",
      "3\t6\n",
      "4\t1\n",
      "4\t2\n",
      "4\t3\n",
      "4\t4\n",
      "4\t5\n",
      "4\t6\n",
      "5\t1\n",
      "5\t2\n",
      "5\t3\n",
      "5\t4\n",
      "5\t5\n",
      "5\t6\n",
      "6\t1\n",
      "6\t2\n",
      "6\t3\n",
      "6\t4\n",
      "6\t5\n",
      "6\t6\n",
      "----------------\n",
      "Therefore the total no of combinations are:  36\n"
     ]
    }
   ],
   "source": [
    "dice_a = 6\n",
    "dice_b = 6\n",
    "possibilites=0\n",
    "print(\"Dice A\", \"Dice B\", sep=\"\\t\")\n",
    "print(\"----\"*4)\n",
    "for i in range(1,dice_a+1):\n",
    "    for j in range(1,dice_b+1):\n",
    "        possibilites +=1\n",
    "        print(i, j, sep=\"\\t\")\n",
    "print(\"----\"*4)\n",
    "print(\"Therefore the total no of combinations are: \", possibilites)"
   ]
  },
  {
   "cell_type": "markdown",
   "metadata": {},
   "source": [
    "# Solution 2"
   ]
  },
  {
   "cell_type": "code",
   "execution_count": 2,
   "metadata": {},
   "outputs": [
    {
     "name": "stdout",
     "output_type": "stream",
     "text": [
      "Dice\t|\t1\t2\t3\t4\t5\t6\n",
      "--------|--------------------------------------------------\n",
      "1\t|\t2\t3\t4\t5\t6\t7\t\n",
      "2\t|\t3\t4\t5\t6\t7\t8\t\n",
      "3\t|\t4\t5\t6\t7\t8\t9\t\n",
      "4\t|\t5\t6\t7\t8\t9\t10\t\n",
      "5\t|\t6\t7\t8\t9\t10\t11\t\n",
      "6\t|\t7\t8\t9\t10\t11\t12\t\n",
      "------------------------------------------------------------\n",
      "The distribution is as follows: \n",
      "-------------------------------------------------------------------------------------------------\n",
      "|\t2\t3\t4\t5\t6\t7\t8\t9\t10\t11\t12\t|\n",
      "-------------------------------------------------------------------------------------------------\n",
      "|\t1\t2\t3\t4\t5\t6\t5\t4\t3\t2\t1\t|\n",
      "-------------------------------------------------------------------------------------------------\n"
     ]
    }
   ],
   "source": [
    "dice_a = 6\n",
    "dice_b = 6\n",
    "print('Dice', '|', *range(1,7), sep=\"\\t\")\n",
    "print(\"--------|\",\"-\"*50, sep=\"\")\n",
    "distribution={}\n",
    "for i in range(1,dice_a+1):\n",
    "    print(i ,\"|\", sep='\\t', end=\"\\t\")\n",
    "    for j in range(1,dice_b+1):\n",
    "        sum = i+j\n",
    "        distribution[sum] = distribution.get(sum,0)+1\n",
    "        print(sum, '', sep=\"\\t\", end=\"\")\n",
    "    print()\n",
    "print(\"-\"*60)\n",
    "print(\"The distribution is as follows: \")\n",
    "print(\"-\"*97)\n",
    "print(\"|\", *distribution.keys(), sep=\"\\t\", end=\"\\t|\\n\")\n",
    "print(\"-\"*97)\n",
    "print(\"|\", *distribution.values(), sep=\"\\t\", end=\"\\t|\\n\")\n",
    "print(\"-\"*97)"
   ]
  },
  {
   "cell_type": "markdown",
   "metadata": {},
   "source": [
    "# Solution 3"
   ]
  },
  {
   "cell_type": "code",
   "execution_count": 3,
   "metadata": {},
   "outputs": [
    {
     "name": "stdout",
     "output_type": "stream",
     "text": [
      "The probability of all possible sums is as follows: \n",
      "-------------------------------------------------------------------------------------------------\n",
      "|\t2\t3\t4\t5\t6\t7\t8\t9\t10\t11\t12\t|\n",
      "-------------------------------------------------------------------------------------------------\n",
      "|\t0.03\t0.06\t0.08\t0.11\t0.14\t0.17\t0.14\t0.11\t0.08\t0.06\t0.03\t|\n",
      "-------------------------------------------------------------------------------------------------\n"
     ]
    }
   ],
   "source": [
    "dice_a = 6\n",
    "dice_b = 6\n",
    "distribution={}\n",
    "for i in range(1,dice_a+1):\n",
    "    for j in range(1,dice_b+1):\n",
    "        sum = i+j\n",
    "        distribution[sum] = distribution.get(sum,0)+1\n",
    "        \n",
    "print(\"The probability of all possible sums is as follows: \")\n",
    "print(\"-\"*97)\n",
    "print(\"|\", *distribution.keys(), sep=\"\\t\", end=\"\\t|\\n\")\n",
    "print(\"-\"*97)\n",
    "print(\"|\", *map(lambda x: round(x/36, 2), distribution.values()), sep=\"\\t\", end=\"\\t|\\n\")\n",
    "print(\"-\"*97)"
   ]
  },
  {
   "cell_type": "markdown",
   "metadata": {},
   "source": [
    "# *Part - B*"
   ]
  },
  {
   "cell_type": "markdown",
   "metadata": {},
   "source": [
    "# Solution"
   ]
  },
  {
   "cell_type": "code",
   "execution_count": 4,
   "metadata": {},
   "outputs": [
    {
     "name": "stdout",
     "output_type": "stream",
     "text": [
      "Solutions:\tDice A\t\t\tDice B\n",
      "Solution 1:\t[0, 1, 1, 2, 2, 3]\t[2, 4, 5, 6, 7, 9]\n",
      "Solution 2:\t[1, 2, 2, 3, 3, 4]\t[1, 3, 4, 5, 6, 8]\n"
     ]
    }
   ],
   "source": [
    "def probability(dice_a, dice_b):\n",
    "    prob = {}\n",
    "    for i in range(6):\n",
    "        for j in range(6):\n",
    "            sum = dice_a[i] + dice_b[j]\n",
    "            prob[sum] = prob.get(sum,0)+1\n",
    "    return prob\n",
    "\n",
    "def combination(values, length, unique):\n",
    "\n",
    "    all_pos = []\n",
    "    cur = [0]*length\n",
    "\n",
    "    def helper(x, start=0):\n",
    "        \n",
    "        if x == length:\n",
    "            all_pos.append(cur.copy())\n",
    "            return\n",
    "        \n",
    "        for i in range(start, len(values)):\n",
    "            cur[x] = values[i]\n",
    "            helper(x+1, i+unique)\n",
    "\n",
    "    helper(0)\n",
    "    return all_pos\n",
    "\n",
    "def check(possibility1, possibility2, original_prob):\n",
    "    lis=[]\n",
    "    for i in range(len(possibility1)):\n",
    "        for j in range(len(possibility2)):\n",
    "            prob = probability(possibility1[i],possibility2[j])\n",
    "            if prob==original_prob:\n",
    "                lis.append([possibility1[i], possibility2[j]])\n",
    "    return lis\n",
    "\n",
    "\n",
    "def undoom_dice(dice_a, dice_b):\n",
    "    constraint1 = range(0,5)\n",
    "    constraint2 = range(0,max(dice_a)+max(dice_b))\n",
    "    original_prob = probability(dice_a, dice_b)\n",
    "    possibility1 = combination(constraint1, 6, 0)\n",
    "    possibility2 = combination(constraint2, 6, 1)\n",
    "    ans = check(possibility1,possibility2, original_prob)\n",
    "    print(\"Solutions:\", \"Dice A\\t\\t\", \"Dice B\", sep=\"\\t\")\n",
    "    for i in range(len(ans)):\n",
    "        print(f'Solution {i+1}:', *ans[i], sep='\\t')\n",
    "\n",
    "\n",
    "undoom_dice([1,2,3,4,5,6],[1,2,3,4,5,6])"
   ]
  }
 ],
 "metadata": {
  "kernelspec": {
   "display_name": "Python 3",
   "language": "python",
   "name": "python3"
  },
  "language_info": {
   "codemirror_mode": {
    "name": "ipython",
    "version": 3
   },
   "file_extension": ".py",
   "mimetype": "text/x-python",
   "name": "python",
   "nbconvert_exporter": "python",
   "pygments_lexer": "ipython3",
   "version": "3.9.13"
  }
 },
 "nbformat": 4,
 "nbformat_minor": 2
}
